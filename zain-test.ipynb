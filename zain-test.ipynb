{
 "cells": [
  {
   "cell_type": "markdown",
   "metadata": {},
   "source": [
    "## Data Cleaning"
   ]
  },
  {
   "cell_type": "code",
   "execution_count": 190,
   "metadata": {},
   "outputs": [
    {
     "name": "stdout",
     "output_type": "stream",
     "text": [
      "Directory raw_data_unzipped and all its contents (4687 files) have been successfully deleted.\n"
     ]
    }
   ],
   "source": [
    "import shutil\n",
    "\n",
    "def delete_dir(dir_to_delete):\n",
    "    try:\n",
    "        file_count = sum([len(files) for r, d, files in os.walk(dir_to_delete)])\n",
    "        shutil.rmtree(dir_to_delete)\n",
    "        print(f\"Directory {dir_to_delete} and all its contents ({file_count} files) have been successfully deleted.\")\n",
    "    except Exception as e:\n",
    "        print(f\"An error occurred while trying to delete the directory: {e}\")\n",
    "\n",
    "\n",
    "# This is in case of testing and if the initial raw files need to be deleted. \n",
    "delete_dir(raw_data_extracted)"
   ]
  },
  {
   "cell_type": "code",
   "execution_count": 191,
   "metadata": {},
   "outputs": [
    {
     "data": {
      "text/plain": [
       "'Extracted to: raw_data_unzipped'"
      ]
     },
     "metadata": {},
     "output_type": "display_data"
    }
   ],
   "source": [
    "import zipfile\n",
    "import os\n",
    "\n",
    "def unzip_file(zip_path, extract_to):\n",
    "    with zipfile.ZipFile(zip_path, 'r') as zip_ref:\n",
    "        zip_ref.extractall(extract_to)\n",
    "    return extract_to\n",
    "\n",
    "\n",
    "raw_data_extracted = 'raw_data_unzipped'\n",
    "\n",
    "raw_data_zip = 'raw_data/midi_classic_music_data.zip'\n",
    "raw_data_extracted = unzip_file(raw_data_zip, raw_data_extracted)\n",
    "\n",
    "display(f\"Extracted to: {raw_data_extracted}\")"
   ]
  },
  {
   "cell_type": "code",
   "execution_count": 192,
   "metadata": {},
   "outputs": [
    {
     "name": "stdout",
     "output_type": "stream",
     "text": [
      "All contents moved from /Users/zaina/Desktop/Masters-class/AAI-511-Final-Project/raw_data_unzipped/midiclassics to /Users/zaina/Desktop/Masters-class/AAI-511-Final-Project/raw_data_unzipped and directory removed.\n"
     ]
    }
   ],
   "source": [
    "import os\n",
    "import shutil\n",
    "\n",
    "def move_contents_up_one_dir(path):\n",
    "    path = os.path.abspath(path)\n",
    "    parent_dir = os.path.dirname(path)\n",
    "    if path == parent_dir or not os.path.exists(path):\n",
    "        print(\"Operation not allowed or path does not exist.\")\n",
    "        return\n",
    "    for item in os.listdir(path):\n",
    "        shutil.move(os.path.join(path, item), os.path.join(parent_dir, item))\n",
    "    os.rmdir(path)\n",
    "    print(f\"All contents moved from {path} to {parent_dir} and directory removed.\")\n",
    "\n",
    "move_contents_up_one_dir(os.path.join(raw_data_extracted, 'midiclassics'))\n"
   ]
  },
  {
   "cell_type": "code",
   "execution_count": 193,
   "metadata": {},
   "outputs": [
    {
     "name": "stdout",
     "output_type": "stream",
     "text": [
      "Total .MID files renamed: 732\n",
      "Total .zip files deleted: 31\n"
     ]
    }
   ],
   "source": [
    "def rename_mid_files(directory):\n",
    "    rename_count = 0\n",
    "    for root, dirs, files in os.walk(directory):\n",
    "        for file in files:\n",
    "            if file.endswith('.MID'):\n",
    "                old_file_path = os.path.join(root, file)\n",
    "                new_file_path = os.path.join(root, file[:-4] + '.mid')\n",
    "                os.rename(old_file_path, new_file_path)\n",
    "                rename_count += 1\n",
    "                # print(f'Renamed: {old_file_path} to {new_file_path}')\n",
    "    return rename_count\n",
    "\n",
    "def delete_zip_files(directory):\n",
    "    delete_count = 0\n",
    "    for root, dirs, files in os.walk(directory):\n",
    "        for file in files:\n",
    "            if file.endswith('.zip'):\n",
    "                file_path = os.path.join(root, file)\n",
    "                os.remove(file_path)\n",
    "                delete_count += 1\n",
    "                # print(f'Deleted: {file_path}')\n",
    "    return delete_count\n",
    "\n",
    "# some files seem to have .MID\n",
    "renamed_files_count = rename_mid_files(raw_data_extracted)\n",
    "print(f'Total .MID files renamed: {renamed_files_count}')\n",
    "# Also, there are zip files are duplications of the files\n",
    "deleted_files_count = delete_zip_files(raw_data_extracted) \n",
    "print(f'Total .zip files deleted: {deleted_files_count}')\n"
   ]
  },
  {
   "cell_type": "code",
   "execution_count": 194,
   "metadata": {},
   "outputs": [
    {
     "name": "stdout",
     "output_type": "stream",
     "text": [
      "Categorized Files Summary:\n",
      "Artist Liszt: 7 files\n",
      "Artist Tchaikovsky: 13 files\n",
      "Artist Ginastera: 1 files\n",
      "Artist Kuhlau: 5 files\n",
      "Artist Debussy: 4 files\n",
      "Artist Dvorak: 6 files\n",
      "Artist Grieg: 2 files\n",
      "Artist Bartok: 2 files\n",
      "Artist Sibelius: 1 files\n",
      "Artist Wagner: 1 files\n",
      "\n",
      "Unassigned Files Summary:\n",
      "Artist Rothchild: 11 files\n",
      "Artist Diabelli: 11 files\n",
      "Artist Bizet: 5 files\n",
      "Artist Tchaicovsky: 1 files\n",
      "Artist Reinecke: 3 files\n",
      "Artist Buxethude: 13 files\n",
      "Artist Gershuin: 1 files\n",
      "Artist Nicolai: 1 files\n",
      "Artist Rimsky: 1 files\n",
      "Artist Rothchlid: 1 files\n",
      "Artist meditation: 1 files\n",
      "Artist Pollen: 1 files\n",
      "Artist Pachebel: 5 files\n",
      "Artist C.P.E.Bach: 1 files\n",
      "Artist Reger: 3 files\n",
      "Artist Lizt: 1 files\n"
     ]
    }
   ],
   "source": [
    "import os\n",
    "\n",
    "def categorize_files_by_dir(path):\n",
    "    files_and_dirs = os.listdir(path)\n",
    "    directories = {name for name in files_and_dirs if os.path.isdir(os.path.join(path, name))}\n",
    "    file_dict = {}\n",
    "    unassigned_files = {}\n",
    "\n",
    "    for file_name in files_and_dirs:\n",
    "        file_path = os.path.join(path, file_name)\n",
    "        if os.path.isfile(file_path) and file_name.endswith('.mid'):\n",
    "            first_word = file_name.split()[0]\n",
    "            if first_word in directories:\n",
    "                if first_word not in file_dict:\n",
    "                    file_dict[first_word] = []\n",
    "                file_dict[first_word].append(file_name)\n",
    "            else:\n",
    "                if first_word not in unassigned_files:\n",
    "                    unassigned_files[first_word] = []\n",
    "                unassigned_files[first_word].append(file_name)\n",
    "\n",
    "    return file_dict, unassigned_files, sorted(directories)\n",
    "\n",
    "def display_info(categorized_files, unassigned_files):\n",
    "    print(\"Categorized Files Summary:\")\n",
    "    for key, files in categorized_files.items():\n",
    "        print(f\"Artist '{key}': {len(files)} files\")\n",
    "    \n",
    "    print(\"\\nUnassigned Files Summary:\")\n",
    "    if unassigned_files:\n",
    "        for key, files in unassigned_files.items():\n",
    "            print(f\"Artist '{key}': {len(files)} files\")\n",
    "    else:\n",
    "        print(\"No unassigned files found.\")\n",
    "\n",
    "categorized_files, unassigned_files, all_artists = categorize_files_by_dir(raw_data_extracted)\n",
    "\n",
    "print(\"Categorized Files Summary:\")\n",
    "for key, files in categorized_files.items():\n",
    "    print(f\"Artist {key}: {len(files)} files\")\n",
    "\n",
    "print(\"\\nUnassigned Files Summary:\")\n",
    "for key, files in unassigned_files.items():\n",
    "    print(f\"Artist {key}: {len(files)} files\")\n"
   ]
  },
  {
   "cell_type": "code",
   "execution_count": 195,
   "metadata": {},
   "outputs": [],
   "source": [
    "corrections_to_file_placement = {\n",
    "    'Pachebel': 'Pachelbel',\n",
    "    'Lizt': 'Liszt'\n",
    "}\n",
    "\n",
    "for old_key, new_key in corrections_to_file_placement.items():\n",
    "    if old_key in unassigned_files:\n",
    "        unassigned_files[new_key] = unassigned_files.pop(old_key)"
   ]
  },
  {
   "cell_type": "code",
   "execution_count": 196,
   "metadata": {},
   "outputs": [],
   "source": [
    "def move_folder_contents(src_folder, dest_folder):\n",
    "    if not os.path.exists(dest_folder):\n",
    "        os.makedirs(dest_folder)\n",
    "    \n",
    "    for item in os.listdir(src_folder):\n",
    "        src_item = os.path.join(src_folder, item)\n",
    "        dest_item = os.path.join(dest_folder, item)\n",
    "        \n",
    "        if os.path.isdir(src_item):\n",
    "            shutil.move(src_item, dest_folder)\n",
    "        else:\n",
    "            shutil.move(src_item, dest_item)\n",
    "    \n",
    "    # Delete the source folder regardless of its contents\n",
    "    delete_dir(src_folder)\n",
    "\n",
    "name_corrections_folder = {\n",
    "    \"Albe'niz\": \"Albeniz\",\n",
    "    \"Albe╠üniz\": \"Albeniz\",\n",
    "    \"Mendelsonn\": \"Mendelssohn\",\n",
    "    \"Tchakoff\": \"Tchaikovsky\",\n",
    "    \"Handel\": \"Handel\",\n",
    "    \"Haendel\": \"Handel\",\n",
    "    \"Straus\": \"Strauss\",\n",
    "    \"Strauss, J\": \"Strauss\"\n",
    "}"
   ]
  },
  {
   "cell_type": "code",
   "execution_count": 197,
   "metadata": {},
   "outputs": [
    {
     "name": "stdout",
     "output_type": "stream",
     "text": [
      "Moving contents from raw_data_unzipped/Albe'niz to raw_data_unzipped/Albeniz...\n",
      "Directory raw_data_unzipped/Albe'niz and all its contents (0 files) have been successfully deleted.\n",
      "Moving contents from raw_data_unzipped/Albe╠üniz to raw_data_unzipped/Albeniz...\n",
      "Directory raw_data_unzipped/Albe╠üniz and all its contents (0 files) have been successfully deleted.\n",
      "Moving contents from raw_data_unzipped/Mendelsonn to raw_data_unzipped/Mendelssohn...\n",
      "Directory raw_data_unzipped/Mendelsonn and all its contents (0 files) have been successfully deleted.\n",
      "Moving contents from raw_data_unzipped/Tchakoff to raw_data_unzipped/Tchaikovsky...\n",
      "Directory raw_data_unzipped/Tchakoff and all its contents (0 files) have been successfully deleted.\n",
      "Moving contents from raw_data_unzipped/Handel to raw_data_unzipped/Handel...\n",
      "Directory raw_data_unzipped/Handel and all its contents (1 files) have been successfully deleted.\n",
      "Moving contents from raw_data_unzipped/Haendel to raw_data_unzipped/Handel...\n",
      "Directory raw_data_unzipped/Haendel and all its contents (0 files) have been successfully deleted.\n",
      "Moving contents from raw_data_unzipped/Straus to raw_data_unzipped/Strauss...\n",
      "Directory raw_data_unzipped/Straus and all its contents (0 files) have been successfully deleted.\n",
      "Moving contents from raw_data_unzipped/Strauss, J to raw_data_unzipped/Strauss...\n",
      "Directory raw_data_unzipped/Strauss, J and all its contents (0 files) have been successfully deleted.\n",
      "Folder contents moved and directories deleted successfully.\n"
     ]
    }
   ],
   "source": [
    "for src_folder, dest_folder in name_corrections_folder.items():\n",
    "    src_path = os.path.join(raw_data_extracted, src_folder)\n",
    "    dest_path = os.path.join(raw_data_extracted, dest_folder)\n",
    "    print(f\"Moving contents from {src_path} to {dest_path}...\")\n",
    "    move_folder_contents(src_path, dest_path)\n",
    "\n",
    "print(\"Folder contents moved and directories deleted successfully.\")"
   ]
  },
  {
   "cell_type": "code",
   "execution_count": 198,
   "metadata": {},
   "outputs": [],
   "source": [
    "def move_files_to_directories(base_path, files_to_move):\n",
    "    for directory, files in files_to_move.items():\n",
    "        dir_path = os.path.join(base_path, directory)\n",
    "        # Create directory if it doesn't exist\n",
    "        if not os.path.exists(dir_path):\n",
    "            os.makedirs(dir_path)\n",
    "        # Move each file to the new directory\n",
    "        for file_name in files:\n",
    "            shutil.move(os.path.join(base_path, file_name), os.path.join(dir_path, file_name))\n",
    "\n",
    "move_files_to_directories(raw_data_extracted,categorized_files)\n"
   ]
  },
  {
   "cell_type": "code",
   "execution_count": 199,
   "metadata": {},
   "outputs": [],
   "source": [
    "move_files_to_directories(raw_data_extracted,unassigned_files)"
   ]
  },
  {
   "cell_type": "code",
   "execution_count": 200,
   "metadata": {},
   "outputs": [
    {
     "name": "stdout",
     "output_type": "stream",
     "text": [
      "{'Laurent', 'Chasins', 'Ganne', 'Brahms', 'Sudds', 'Pachelbel', 'Ravel', 'Sinding', 'Mehul', 'Becker', 'Wolf', 'Kuhlau', 'Faure', 'Alkan', 'Copland', 'Durand, E', 'Reger', 'Bernstein', 'Czerny', 'Burgmuller', 'Nicolai', 'Thomas', 'Cramer', 'Bach', 'Mussorgski', 'Tchaicovsky', 'Vivaldi', 'Mozart', 'Czibulka', \"Varios - Ti'tulo desconocido\", 'Schumann', 'Finck', 'Beethoven', 'Komzak', 'Diabelli', 'Handel', 'Borodin', 'Jensen', 'Barber', 'Sibelius', 'Lemire', 'Hiller', 'Durand, MA', 'Sullivan', 'Hummel', 'Berlin', 'Raff', 'Liszt', 'Bizet', 'Le Thiere', 'Tarrega', 'Gershwin', 'Buxethude', 'meditation', 'Bartok', 'Bacewitz', 'Buxehude', 'Paderewski', 'Verdi', 'Dvorak', 'Rossini', 'Friedman', 'Arensky', 'Debussy', 'Sarasate', 'Pridhan', 'Couperin', 'MacBeth', 'Bellini', 'Chabrier', 'Paradisi', 'Skriabin', 'Heidrich', 'Flotow', 'Taube', 'Vaughan', 'Tchaikovsky', 'Griffes', 'Haydn', 'Wagner', 'MacCunn', 'Herold', 'Paganini', 'Grieg', 'Field', 'Bartelet', 'Dussek', 'Lecuona', 'Busoni', 'Clementi', 'Rimsky-Korsakov', 'Joplin', 'Suppe', 'Saint-Saens', 'Moszkowski', 'Holst, M', 'Chaminade', 'Maier', 'Schubert', 'Prokofiev', 'Schoenberg', 'Poulenc', 'Coates', 'Stravinski', 'Ivanovici', 'Pollen', 'Franck', 'Fucick', 'Rachmaninov', 'Hemery', 'Jakobowski', 'Satie', 'Frescobaldi', 'Meyerbeer', 'Ginastera', 'Shostakovich', 'Chopin', 'Lange', 'Albeniz', 'Gottschalk', 'German', 'Reinecke', 'Coleridge-Taylor', 'C.P.E.Bach', 'Peterson-Berger', 'Grainger', 'Holst', 'Gershuin', 'Mendelssohn', 'Ambroise', 'Scarlatti', 'Busser', 'Rimsky', 'Morel', 'Rothchild', 'Cons', 'Botsford', 'Clarke', 'Arndt', 'Lyssenko', 'Heller', 'Rothchlid', 'Swinstead', 'Strauss', 'Lavallee', 'Resch'}\n"
     ]
    }
   ],
   "source": [
    "print({name for name in os.listdir(raw_data_extracted) if os.path.isdir(os.path.join(raw_data_extracted, name))})"
   ]
  },
  {
   "cell_type": "markdown",
   "metadata": {},
   "source": [
    "## Testing to see how it looks and sounds"
   ]
  },
  {
   "cell_type": "code",
   "execution_count": 205,
   "metadata": {},
   "outputs": [
    {
     "name": "stdout",
     "output_type": "stream",
     "text": [
      "pygame 2.6.0 (SDL 2.28.4, Python 3.9.6)\n",
      "Hello from the pygame community. https://www.pygame.org/contribute.html\n"
     ]
    },
    {
     "data": {
      "image/png": "[encoded data removed]",
      "text/plain": [
       "<Figure size 1000x600 with 1 Axes>"
      ]
     },
     "metadata": {},
     "output_type": "display_data"
    },
    {
     "ename": "KeyboardInterrupt",
     "evalue": "",
     "output_type": "error",
     "traceback": [
      "\u001b[0;31m---------------------------------------------------------------------------\u001b[0m",
      "\u001b[0;31mKeyboardInterrupt\u001b[0m                         Traceback (most recent call last)",
      "Cell \u001b[0;32mIn[205], line 39\u001b[0m\n\u001b[1;32m     36\u001b[0m visualize_midi(midi_file)\n\u001b[1;32m     38\u001b[0m \u001b[38;5;66;03m# Play the MIDI file\u001b[39;00m\n\u001b[0;32m---> 39\u001b[0m \u001b[43mplay_midi\u001b[49m\u001b[43m(\u001b[49m\u001b[43mmidi_file_path\u001b[49m\u001b[43m)\u001b[49m\n",
      "Cell \u001b[0;32mIn[205], line 31\u001b[0m, in \u001b[0;36mplay_midi\u001b[0;34m(midi_file_path)\u001b[0m\n\u001b[1;32m     28\u001b[0m pygame\u001b[38;5;241m.\u001b[39mmixer\u001b[38;5;241m.\u001b[39mmusic\u001b[38;5;241m.\u001b[39mplay()\n\u001b[1;32m     30\u001b[0m \u001b[38;5;28;01mwhile\u001b[39;00m pygame\u001b[38;5;241m.\u001b[39mmixer\u001b[38;5;241m.\u001b[39mmusic\u001b[38;5;241m.\u001b[39mget_busy():\n\u001b[0;32m---> 31\u001b[0m     \u001b[43mpygame\u001b[49m\u001b[38;5;241;43m.\u001b[39;49m\u001b[43mtime\u001b[49m\u001b[38;5;241;43m.\u001b[39;49m\u001b[43mClock\u001b[49m\u001b[43m(\u001b[49m\u001b[43m)\u001b[49m\u001b[38;5;241;43m.\u001b[39;49m\u001b[43mtick\u001b[49m\u001b[43m(\u001b[49m\u001b[38;5;241;43m10\u001b[39;49m\u001b[43m)\u001b[49m\n",
      "\u001b[0;31mKeyboardInterrupt\u001b[0m: "
     ]
    }
   ],
   "source": [
    "## Test Run. Make sure to stop it!!\n",
    "\n",
    "import mido\n",
    "import pygame\n",
    "import matplotlib.pyplot as plt\n",
    "\n",
    "# Function to visualize the MIDI file\n",
    "def visualize_midi(midi_file):\n",
    "    note_events = []\n",
    "\n",
    "    for i, track in enumerate(midi_file.tracks):\n",
    "        time = 0\n",
    "        for msg in track:\n",
    "            time += msg.time\n",
    "            if not msg.is_meta and msg.type == 'note_on':\n",
    "                note_events.append((time, msg.note))\n",
    "\n",
    "    times, notes = zip(*note_events)\n",
    "    plt.figure(figsize=(10, 6))\n",
    "    plt.scatter(times, notes, s=10, c='blue', marker='o')\n",
    "    plt.xlabel('Time (ticks)')\n",
    "    plt.ylabel('Note')\n",
    "    plt.title('MIDI Note Visualization')\n",
    "    plt.show()\n",
    "\n",
    "# Function to play the MIDI file\n",
    "def play_midi(midi_file_path):\n",
    "    pygame.mixer.init()\n",
    "    pygame.mixer.music.load(midi_file_path)\n",
    "    pygame.mixer.music.play()\n",
    "\n",
    "    while pygame.mixer.music.get_busy():\n",
    "        pygame.time.Clock().tick(10)\n",
    "\n",
    "# Open and visualize the MIDI file\n",
    "midi_file_path = '/Users/zaina/Desktop/Masters-class/AAI-511-Final-Project/raw_data_unzipped/Bach/Bwv0525 Sonate en trio n1.mid'\n",
    "midi_file = mido.MidiFile(midi_file_path)\n",
    "visualize_midi(midi_file)\n",
    "\n",
    "# Play the MIDI file\n",
    "play_midi(midi_file_path)\n"
   ]
  },
  {
   "cell_type": "code",
   "execution_count": 206,
   "metadata": {},
   "outputs": [],
   "source": [
    "pygame.quit()"
   ]
  }
 ],
 "metadata": {
  "kernelspec": {
   "display_name": "dataprepenv",
   "language": "python",
   "name": "python3"
  },
  "language_info": {
   "codemirror_mode": {
    "name": "ipython",
    "version": 3
   },
   "file_extension": ".py",
   "mimetype": "text/x-python",
   "name": "python",
   "nbconvert_exporter": "python",
   "pygments_lexer": "ipython3",
   "version": "3.9.6"
  }
 },
 "nbformat": 4,
 "nbformat_minor": 2
}
